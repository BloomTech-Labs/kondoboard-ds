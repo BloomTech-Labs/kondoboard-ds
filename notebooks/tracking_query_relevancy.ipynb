{
 "cells": [
  {
   "cell_type": "code",
   "execution_count": 4,
   "metadata": {},
   "outputs": [],
   "source": [
    "import requests\n",
    "import logging\n",
    "import json\n",
    "import os\n",
    "import boto3\n",
    "from elasticsearch import Elasticsearch, RequestsHttpConnection\n",
    "from pprint import pprint\n",
    "import pandas as pd"
   ]
  },
  {
   "cell_type": "code",
   "execution_count": 6,
   "metadata": {},
   "outputs": [],
   "source": [
    "host = os.environ[\"AWS_ENDPOINT\"]\n",
    "region = os.environ[\"REGION\"]"
   ]
  },
  {
   "cell_type": "code",
   "execution_count": 7,
   "metadata": {},
   "outputs": [],
   "source": [
    "es = Elasticsearch(\n",
    "    hosts=[host],\n",
    "    use_ssl=True,\n",
    "    verify_certs=True,\n",
    "    connection_class=RequestsHttpConnection,\n",
    ")"
   ]
  },
  {
   "cell_type": "code",
   "execution_count": null,
   "metadata": {},
   "outputs": [],
   "source": [
    "# What I am trying to do:\n",
    "# Find a way to track how well our queries are doing\n",
    "# Idea: Plot the number of relevant \n",
    "\n",
    "# first of all, relevancy is objective. Relevancy for any specific\n",
    "# user will vary depending on what is most important to them. The jobs\n",
    "# that I find relevant will be different to, for example, the jobs that\n",
    "# Robert finds relevant because we might have different standards about\n",
    "# the location, different skills, etc. So even if we, two people who are \n",
    "# both Lambda School graduates, do the same search, we might have two\n",
    "# very different results for the number of relevant positions. "
   ]
  },
  {
   "cell_type": "code",
   "execution_count": 8,
   "metadata": {},
   "outputs": [],
   "source": [
    "def reformat(response_query):\n",
    "    \"\"\"\n",
    "    Reformats elasticsearch query to remove extra information\n",
    "    \"\"\"\n",
    "\n",
    "    data = list()\n",
    "    for hit in response_query[\"hits\"][\"hits\"]:\n",
    "        data.append(\n",
    "            {\n",
    "                \"id\": hit[\"_id\"],\n",
    "                \"source_url\": hit[\"_source\"][\"post_url\"],\n",
    "                \"title\": hit[\"_source\"][\"title\"],\n",
    "                \"company\": hit[\"_source\"][\"company\"],\n",
    "                \"description\": hit[\"_source\"][\"description\"],\n",
    "                \"date_published\": hit[\"_source\"][\"publication_date\"],\n",
    "                \"location_city\": hit[\"_source\"][\"location_city\"],\n",
    "                \"location_state\": hit[\"_source\"][\"location_state\"],\n",
    "                \"geo_locat\": hit[\"_source\"][\"location_point\"],\n",
    "            }\n",
    "        )\n",
    "\n",
    "    logging.info(f\"Reformatted {len(data)} returned responses\")\n",
    "\n",
    "    return {\"jobs\": data}"
   ]
  },
  {
   "cell_type": "code",
   "execution_count": null,
   "metadata": {},
   "outputs": [],
   "source": [
    "# OLD QUERY\n",
    "def search_city_state(search, city, state):\n",
    "    \"\"\"\n",
    "    Query to call if user specifies the location \n",
    "    they want to search in. \n",
    "    \n",
    "    Currently using \"should\" clause, so the locations \n",
    "    do not HAVE to match up-\n",
    "    will change this later when we get more jobs in.\n",
    "    \"\"\"\n",
    "\n",
    "    query = json.dumps(\n",
    "        {\n",
    "            \"query\": {\n",
    "                \"bool\": {\n",
    "                \"must\": [\n",
    "                    {\n",
    "                    \"multi_match\": {\n",
    "                    \"query\": search,\n",
    "                    \"fields\": [\"description, \", \"title\"]\n",
    "                    }\n",
    "                    }],\n",
    "                \"should\": [\n",
    "                    {\n",
    "                    \"match\": {\n",
    "                        \"location_city\": city\n",
    "                    }\n",
    "                    },\n",
    "                    {\n",
    "                    \"match\": {\n",
    "                        \"location_state\": state\n",
    "                    }\n",
    "                    }\n",
    "                ]\n",
    "                }\n",
    "            }\n",
    "        }\n",
    "    )\n",
    "    response = connect(query)\n",
    "    reformatted = reformat(response)\n",
    "\n",
    "    return reformatted"
   ]
  },
  {
   "cell_type": "code",
   "execution_count": 13,
   "metadata": {},
   "outputs": [],
   "source": [
    "old_data = {\n",
    "\"san_francisco\": {\"score\": [1, 0, 0, 0, 0, 0, 0, 0, 0, 0],\n",
    "                 \"reason\": [\"n/a\", \"location\", \"location\", \"location\", \"location\", \"experience\", \"experience\", \"experience\", \"experience\", \"experience\"]},\n",
    "\"seattle\": {\"score\": [1, 1, 0, 0, 0, 0, 0, 0, 0, 0],\n",
    "                 \"reason\": [\"n/a\", \"n/a\", \"location\", \"location\", \"location\", \"experience\", \"experience\", \"experience\", \"experience\", \"experience\"]},\n",
    "\"portland\": {\"score\": [0, 0, 0, 0, 0, 0, 0, 0, 0, 0],\n",
    "                 \"reason\": [\"n/a\", \"n/a\", \"n/a\", \"n/a\", \"n/a\", \"n/a\", \"n/a\", \"n/a\", \"n/a\", \"n/a\"]}}"
   ]
  },
  {
   "cell_type": "code",
   "execution_count": 14,
   "metadata": {},
   "outputs": [],
   "source": [
    "old_san = pd.DataFrame(old_data[\"san_francisco\"])\n",
    "old_sea = pd.DataFrame(old_data[\"seattle\"])\n",
    "old_por = pd.DataFrame(old_data[\"portland\"])"
   ]
  },
  {
   "cell_type": "code",
   "execution_count": 15,
   "metadata": {},
   "outputs": [],
   "source": [
    "old_san['location'] = \"San Francisco\"\n",
    "old_sea['location'] = \"Seattle\"\n",
    "old_por['location'] = \"Portland\""
   ]
  },
  {
   "cell_type": "code",
   "execution_count": 16,
   "metadata": {},
   "outputs": [],
   "source": [
    "old_df = pd.concat([old_san, old_sea, old_por])"
   ]
  },
  {
   "cell_type": "code",
   "execution_count": 15,
   "metadata": {},
   "outputs": [],
   "source": [
    "# NEW QUERY\n",
    "\n",
    "def search_city_state(search, city, state):\n",
    "    \"\"\"\n",
    "    Query to call if user specifies the location \n",
    "    they want to search in. \n",
    "    \n",
    "    Job posting MUST match the location, and then\n",
    "    its relevancy score is increased as more search\n",
    "    terms are in the description, title, or tags. \n",
    "\n",
    "    Job postings are penalized if they have lead, master,\n",
    "    or senior in the title.\n",
    "    \"\"\"\n",
    "\n",
    "    query = json.dumps(\n",
    "        {\n",
    "            \"query\": {\n",
    "                \"bool\": {\n",
    "                    \"must\": [\n",
    "                        {\"match\": {\"location_city\": city.title()}},\n",
    "                        {\"match\": {\"location_state\": state.title()}},\n",
    "                    ],\n",
    "                    \"should\": [\n",
    "                        {\n",
    "                            \"multi_match\": {\n",
    "                                \"query\": search,\n",
    "                                \"fields\": [\"description\", \"title\", \"tags\"],\n",
    "                            }\n",
    "                        },\n",
    "                        {\n",
    "                            \"bool\": {\n",
    "                                \"must_not\": {\"match\": {\"title\": \"senior master lead\"}}\n",
    "                            }\n",
    "                        },\n",
    "                    ],\n",
    "                }\n",
    "            }\n",
    "        }\n",
    "    )\n",
    "\n",
    "    response = es.search(index=\"jobs\", body=query)\n",
    "\n",
    "    return reformat(response)"
   ]
  },
  {
   "cell_type": "code",
   "execution_count": 27,
   "metadata": {},
   "outputs": [],
   "source": [
    "# I want to just focus on searching in specific locations right now\n",
    "# reasons to say NO, not relevant:\n",
    "    # job doesn't have main search in description or title\n",
    "    # job not in location specified\n",
    "    # job needs more than 3+ years of experience in this specific field"
   ]
  },
  {
   "cell_type": "code",
   "execution_count": null,
   "metadata": {
    "scrolled": true
   },
   "outputs": [],
   "source": [
    "search1 = {\"search\":\"Data engineer elasticsearch\", \"city\":\"Portland\", \"state\":\"Oregon\"}\n",
    "\n",
    "pprint(search_city_state(search=search1['search'], city=search1['city'], state=search1['state']))"
   ]
  },
  {
   "cell_type": "code",
   "execution_count": 24,
   "metadata": {},
   "outputs": [
    {
     "name": "stdout",
     "output_type": "stream",
     "text": [
      "Data engineer elasticsearch San Fransisco California\n"
     ]
    }
   ],
   "source": [
    "print(search1['search'], search1['city'], search1['state'])"
   ]
  },
  {
   "cell_type": "code",
   "execution_count": 5,
   "metadata": {},
   "outputs": [],
   "source": [
    "new_data = {\n",
    "\"san_francisco\": {\"score\": [1, 1, 1, 1, 1, 0, 0, 0, 0, 0],\n",
    "                 \"reason\": [\"n/a\", \"n/a\", \"n/a\", \"n/a\", \"n/a\", \"experience\", \"experience\", \"experience\", \"experience\", \"experience\"]},\n",
    "\"seattle\": {\"score\": [0, 0, 1, 1, 1, 1, 1, 1, 1, 1],\n",
    "                 \"reason\": [\"experience\", \"experience\", \"n/a\", \"n/a\", \"n/a\", \"n/a\", \"n/a\", \"n/a\", \"n/a\", \"n/a\"]},\n",
    "\"portland\": {\"score\": [1, 1, 1, 1, 1, 1, 1, 1, 1, 1],\n",
    "                 \"reason\": [\"n/a\", \"n/a\", \"n/a\", \"n/a\", \"n/a\", \"n/a\", \"n/a\", \"n/a\", \"n/a\", \"n/a\"]}}"
   ]
  },
  {
   "cell_type": "code",
   "execution_count": 6,
   "metadata": {},
   "outputs": [],
   "source": [
    "new_san = pd.DataFrame(new_data[\"san_francisco\"])\n",
    "new_sea = pd.DataFrame(new_data[\"seattle\"])\n",
    "new_por = pd.DataFrame(new_data[\"portland\"])"
   ]
  },
  {
   "cell_type": "code",
   "execution_count": 7,
   "metadata": {},
   "outputs": [],
   "source": [
    "new_san['location'] = \"San Francisco\"\n",
    "new_sea['location'] = \"Seattle\"\n",
    "new_por['location'] = \"Portland\""
   ]
  },
  {
   "cell_type": "code",
   "execution_count": 8,
   "metadata": {},
   "outputs": [],
   "source": [
    "new_df = pd.concat([new_san, new_sea, new_por])"
   ]
  },
  {
   "cell_type": "code",
   "execution_count": 9,
   "metadata": {},
   "outputs": [
    {
     "data": {
      "text/html": [
       "<div>\n",
       "<style scoped>\n",
       "    .dataframe tbody tr th:only-of-type {\n",
       "        vertical-align: middle;\n",
       "    }\n",
       "\n",
       "    .dataframe tbody tr th {\n",
       "        vertical-align: top;\n",
       "    }\n",
       "\n",
       "    .dataframe thead th {\n",
       "        text-align: right;\n",
       "    }\n",
       "</style>\n",
       "<table border=\"1\" class=\"dataframe\">\n",
       "  <thead>\n",
       "    <tr style=\"text-align: right;\">\n",
       "      <th></th>\n",
       "      <th>score</th>\n",
       "    </tr>\n",
       "    <tr>\n",
       "      <th>location</th>\n",
       "      <th></th>\n",
       "    </tr>\n",
       "  </thead>\n",
       "  <tbody>\n",
       "    <tr>\n",
       "      <th>Portland</th>\n",
       "      <td>1.0</td>\n",
       "    </tr>\n",
       "    <tr>\n",
       "      <th>San Francisco</th>\n",
       "      <td>0.5</td>\n",
       "    </tr>\n",
       "    <tr>\n",
       "      <th>Seattle</th>\n",
       "      <td>0.8</td>\n",
       "    </tr>\n",
       "  </tbody>\n",
       "</table>\n",
       "</div>"
      ],
      "text/plain": [
       "               score\n",
       "location            \n",
       "Portland         1.0\n",
       "San Francisco    0.5\n",
       "Seattle          0.8"
      ]
     },
     "execution_count": 9,
     "metadata": {},
     "output_type": "execute_result"
    }
   ],
   "source": [
    "# Percentage of job searches that are relevant per city\n",
    "# for the generic search \"Data engineer elasticsearch\"\n",
    "\n",
    "new_queries = new_df.groupby(['location']).mean()\n",
    "new_queries"
   ]
  },
  {
   "cell_type": "code",
   "execution_count": 11,
   "metadata": {},
   "outputs": [
    {
     "name": "stdout",
     "output_type": "stream",
     "text": [
      "The new queries have an accuracy score of 77.0%\n"
     ]
    }
   ],
   "source": [
    "print(f\"The new queries have an accuracy score of {(new_queries['score'].mean() * 100).round()}%\")"
   ]
  },
  {
   "cell_type": "code",
   "execution_count": 17,
   "metadata": {},
   "outputs": [
    {
     "data": {
      "text/html": [
       "<div>\n",
       "<style scoped>\n",
       "    .dataframe tbody tr th:only-of-type {\n",
       "        vertical-align: middle;\n",
       "    }\n",
       "\n",
       "    .dataframe tbody tr th {\n",
       "        vertical-align: top;\n",
       "    }\n",
       "\n",
       "    .dataframe thead th {\n",
       "        text-align: right;\n",
       "    }\n",
       "</style>\n",
       "<table border=\"1\" class=\"dataframe\">\n",
       "  <thead>\n",
       "    <tr style=\"text-align: right;\">\n",
       "      <th></th>\n",
       "      <th>score</th>\n",
       "    </tr>\n",
       "    <tr>\n",
       "      <th>location</th>\n",
       "      <th></th>\n",
       "    </tr>\n",
       "  </thead>\n",
       "  <tbody>\n",
       "    <tr>\n",
       "      <th>Portland</th>\n",
       "      <td>0.0</td>\n",
       "    </tr>\n",
       "    <tr>\n",
       "      <th>San Francisco</th>\n",
       "      <td>0.1</td>\n",
       "    </tr>\n",
       "    <tr>\n",
       "      <th>Seattle</th>\n",
       "      <td>0.2</td>\n",
       "    </tr>\n",
       "  </tbody>\n",
       "</table>\n",
       "</div>"
      ],
      "text/plain": [
       "               score\n",
       "location            \n",
       "Portland         0.0\n",
       "San Francisco    0.1\n",
       "Seattle          0.2"
      ]
     },
     "execution_count": 17,
     "metadata": {},
     "output_type": "execute_result"
    }
   ],
   "source": [
    "old_queries = old_df.groupby(['location']).mean()\n",
    "old_queries"
   ]
  },
  {
   "cell_type": "code",
   "execution_count": 19,
   "metadata": {},
   "outputs": [
    {
     "name": "stdout",
     "output_type": "stream",
     "text": [
      "The old queries have an accuracy score of 10.0%\n"
     ]
    }
   ],
   "source": [
    "print(f\"The old queries have an accuracy score of {(old_queries['score'].mean() * 100).round()}%\")"
   ]
  },
  {
   "cell_type": "code",
   "execution_count": 20,
   "metadata": {},
   "outputs": [],
   "source": [
    "new_queries['RC'] = 1\n",
    "old_queries['RC'] = 2"
   ]
  },
  {
   "cell_type": "code",
   "execution_count": 22,
   "metadata": {},
   "outputs": [],
   "source": [
    "total = pd.concat([new_queries, old_queries])"
   ]
  },
  {
   "cell_type": "code",
   "execution_count": 46,
   "metadata": {},
   "outputs": [
    {
     "data": {
      "text/html": [
       "<div>\n",
       "<style scoped>\n",
       "    .dataframe tbody tr th:only-of-type {\n",
       "        vertical-align: middle;\n",
       "    }\n",
       "\n",
       "    .dataframe tbody tr th {\n",
       "        vertical-align: top;\n",
       "    }\n",
       "\n",
       "    .dataframe thead th {\n",
       "        text-align: right;\n",
       "    }\n",
       "</style>\n",
       "<table border=\"1\" class=\"dataframe\">\n",
       "  <thead>\n",
       "    <tr style=\"text-align: right;\">\n",
       "      <th></th>\n",
       "      <th>score</th>\n",
       "      <th>RC</th>\n",
       "    </tr>\n",
       "    <tr>\n",
       "      <th>location</th>\n",
       "      <th></th>\n",
       "      <th></th>\n",
       "    </tr>\n",
       "  </thead>\n",
       "  <tbody>\n",
       "    <tr>\n",
       "      <th>Portland</th>\n",
       "      <td>1.0</td>\n",
       "      <td>1</td>\n",
       "    </tr>\n",
       "    <tr>\n",
       "      <th>San Francisco</th>\n",
       "      <td>0.5</td>\n",
       "      <td>1</td>\n",
       "    </tr>\n",
       "    <tr>\n",
       "      <th>Seattle</th>\n",
       "      <td>0.8</td>\n",
       "      <td>1</td>\n",
       "    </tr>\n",
       "    <tr>\n",
       "      <th>Portland</th>\n",
       "      <td>0.0</td>\n",
       "      <td>2</td>\n",
       "    </tr>\n",
       "    <tr>\n",
       "      <th>San Francisco</th>\n",
       "      <td>0.1</td>\n",
       "      <td>2</td>\n",
       "    </tr>\n",
       "    <tr>\n",
       "      <th>Seattle</th>\n",
       "      <td>0.2</td>\n",
       "      <td>2</td>\n",
       "    </tr>\n",
       "  </tbody>\n",
       "</table>\n",
       "</div>"
      ],
      "text/plain": [
       "               score  RC\n",
       "location                \n",
       "Portland         1.0   1\n",
       "San Francisco    0.5   1\n",
       "Seattle          0.8   1\n",
       "Portland         0.0   2\n",
       "San Francisco    0.1   2\n",
       "Seattle          0.2   2"
      ]
     },
     "execution_count": 46,
     "metadata": {},
     "output_type": "execute_result"
    }
   ],
   "source": [
    "total"
   ]
  },
  {
   "cell_type": "code",
   "execution_count": null,
   "metadata": {},
   "outputs": [],
   "source": [
    "df = pd.DataFrame({'lab':['A', 'B', 'C'], 'val':[10, 30, 20]})\n",
    "\n",
    "ax = df.plot.bar(x='lab', y='val', rot=0)"
   ]
  },
  {
   "cell_type": "code",
   "execution_count": 41,
   "metadata": {},
   "outputs": [
    {
     "data": {
      "text/html": [
       "<div>\n",
       "<style scoped>\n",
       "    .dataframe tbody tr th:only-of-type {\n",
       "        vertical-align: middle;\n",
       "    }\n",
       "\n",
       "    .dataframe tbody tr th {\n",
       "        vertical-align: top;\n",
       "    }\n",
       "\n",
       "    .dataframe thead th {\n",
       "        text-align: right;\n",
       "    }\n",
       "</style>\n",
       "<table border=\"1\" class=\"dataframe\">\n",
       "  <thead>\n",
       "    <tr style=\"text-align: right;\">\n",
       "      <th></th>\n",
       "      <th>score</th>\n",
       "      <th>RC</th>\n",
       "    </tr>\n",
       "    <tr>\n",
       "      <th>location</th>\n",
       "      <th></th>\n",
       "      <th></th>\n",
       "    </tr>\n",
       "  </thead>\n",
       "  <tbody>\n",
       "    <tr>\n",
       "      <th>Portland</th>\n",
       "      <td>1.0</td>\n",
       "      <td>1</td>\n",
       "    </tr>\n",
       "    <tr>\n",
       "      <th>San Francisco</th>\n",
       "      <td>0.5</td>\n",
       "      <td>1</td>\n",
       "    </tr>\n",
       "    <tr>\n",
       "      <th>Seattle</th>\n",
       "      <td>0.8</td>\n",
       "      <td>1</td>\n",
       "    </tr>\n",
       "    <tr>\n",
       "      <th>Portland</th>\n",
       "      <td>0.0</td>\n",
       "      <td>2</td>\n",
       "    </tr>\n",
       "    <tr>\n",
       "      <th>San Francisco</th>\n",
       "      <td>0.1</td>\n",
       "      <td>2</td>\n",
       "    </tr>\n",
       "    <tr>\n",
       "      <th>Seattle</th>\n",
       "      <td>0.2</td>\n",
       "      <td>2</td>\n",
       "    </tr>\n",
       "  </tbody>\n",
       "</table>\n",
       "</div>"
      ],
      "text/plain": [
       "               score  RC\n",
       "location                \n",
       "Portland         1.0   1\n",
       "San Francisco    0.5   1\n",
       "Seattle          0.8   1\n",
       "Portland         0.0   2\n",
       "San Francisco    0.1   2\n",
       "Seattle          0.2   2"
      ]
     },
     "execution_count": 41,
     "metadata": {},
     "output_type": "execute_result"
    }
   ],
   "source": [
    "total"
   ]
  },
  {
   "cell_type": "code",
   "execution_count": null,
   "metadata": {},
   "outputs": [],
   "source": []
  }
 ],
 "metadata": {
  "kernelspec": {
   "display_name": "Python 3",
   "language": "python",
   "name": "python3"
  },
  "language_info": {
   "codemirror_mode": {
    "name": "ipython",
    "version": 3
   },
   "file_extension": ".py",
   "mimetype": "text/x-python",
   "name": "python",
   "nbconvert_exporter": "python",
   "pygments_lexer": "ipython3",
   "version": "3.7.0"
  }
 },
 "nbformat": 4,
 "nbformat_minor": 4
}
